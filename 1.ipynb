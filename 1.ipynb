{
  "nbformat": 4,
  "nbformat_minor": 0,
  "metadata": {
    "colab": {
      "name": "1.ipynb",
      "provenance": [],
      "collapsed_sections": [],
      "authorship_tag": "ABX9TyNJY/6hpZdKnOVgbiJj/wvU",
      "include_colab_link": true
    },
    "kernelspec": {
      "name": "python3",
      "display_name": "Python 3"
    },
    "language_info": {
      "name": "python"
    }
  },
  "cells": [
    {
      "cell_type": "markdown",
      "metadata": {
        "id": "view-in-github",
        "colab_type": "text"
      },
      "source": [
        "<a href=\"https://colab.research.google.com/github/Oksana-Pettske/Neuralnet/blob/main/1.ipynb\" target=\"_parent\"><img src=\"https://colab.research.google.com/assets/colab-badge.svg\" alt=\"Open In Colab\"/></a>"
      ]
    },
    {
      "cell_type": "code",
      "metadata": {
        "id": "atYZV4Q3EXGn"
      },
      "source": [
        "#импорты\n",
        "import numpy as np\n",
        "import matplotlib.pyplot as plt\n",
        "import tensorflow as tf\n",
        "from tensorflow import keras\n",
        "from tensorflow.keras.datasets import mnist\n",
        "from tensorflow.keras.models import Sequential\n",
        "from tensorflow.keras.layers import Dense\n",
        "from tensorflow.keras.layers import Flatten\n",
        "from random import randint\n",
        "\n",
        "#загрузка выборок в модель\n",
        "(x_train, y_train), (x_test, y_test) = mnist.load_data()\n",
        "\n",
        "#нормировка\n",
        "x_train = x_train / 255.0\n",
        "x_test = x_test / 255.0\n",
        "\n",
        "#формирование модели\n",
        "model = keras.Sequential ([\n",
        "                           #слой, преобразующий 28*28 в вектор 784\n",
        "                           Flatten(input_shape = (28, 28, 1)),\n",
        "                           #слой со 128 нейронами\n",
        "                           Dense(128, activation = 'relu'),\n",
        "                           #выходной слой с 10 нейронами\n",
        "                           Dense(10, activation = 'softmax')\n",
        "])\n",
        "\n",
        "print(model.summary())\n",
        "\n",
        "#y_train, y_test в формате вектора\n",
        "y_train_cat = keras.utils.to_categorical(y_train, 10)\n",
        "y_test_cat = keras.utils.to_categorical(y_test, 10)\n",
        "\n",
        "#функция потерь и функция оптимизации\n",
        "model.compile(optimizer = 'adam',\n",
        "              loss = 'categorical_crossentropy',\n",
        "              metrics = ['accuracy'])\n",
        "\n",
        "#обучение модели\n",
        "history = model.fit(x_train,\n",
        "          y_train_cat, \n",
        "          batch_size = 32, \n",
        "          epochs = 10, \n",
        "          validation_split = 0.2)"
      ],
      "execution_count": null,
      "outputs": []
    },
    {
      "cell_type": "code",
      "metadata": {
        "id": "7iFJ8MizvtXJ"
      },
      "source": [
        "#оценка модели на тестовых данных\n",
        "model.evaluate(x_test, y_test_cat)"
      ],
      "execution_count": null,
      "outputs": []
    },
    {
      "cell_type": "code",
      "metadata": {
        "id": "AEMA3oCtzD9E"
      },
      "source": [
        "# распознавание тестового изображения\n",
        "n = 1\n",
        "x = np.expand_dims(x_test[n], axis=0)\n",
        "res = model.predict(x)\n",
        "print('Number: ' + str(n))\n",
        "print('\\nIt is probably: ' + str(np.argmax(res)))\n",
        "print('\\nImage:')\n",
        "plt.imshow(x_test[n], cmap=plt.cm.binary)\n",
        "plt.show()\n",
        "\n",
        "#количество неверных распознаваний\n",
        "pred = model.predict(x_test)\n",
        "pred = np.argmax(pred, axis=1)\n",
        "\n",
        "mask = pred == y_test\n",
        "\n",
        "x_false = x_test[~mask]\n",
        "y_false = x_test[~mask]\n",
        "\n",
        "print('\\nNumber of wrong recognition: ' + str(y_false.size))"
      ],
      "execution_count": null,
      "outputs": []
    }
  ]
}