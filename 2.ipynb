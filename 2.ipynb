{
  "nbformat": 4,
  "nbformat_minor": 0,
  "metadata": {
    "colab": {
      "name": "2.ipynb",
      "provenance": [],
      "collapsed_sections": [],
      "authorship_tag": "ABX9TyOxeiqGbF2Q64LCtXoErFIm",
      "include_colab_link": true
    },
    "kernelspec": {
      "name": "python3",
      "display_name": "Python 3"
    },
    "language_info": {
      "name": "python"
    }
  },
  "cells": [
    {
      "cell_type": "markdown",
      "metadata": {
        "id": "view-in-github",
        "colab_type": "text"
      },
      "source": [
        "<a href=\"https://colab.research.google.com/github/Oksana-Pettske/Neuralnet/blob/main/2.ipynb\" target=\"_parent\"><img src=\"https://colab.research.google.com/assets/colab-badge.svg\" alt=\"Open In Colab\"/></a>"
      ]
    },
    {
      "cell_type": "code",
      "metadata": {
        "id": "eHfqov54PZPL"
      },
      "source": [
        "import numpy as np\n",
        "import matplotlib.pyplot as plt\n",
        "from tensorflow import keras\n",
        "from google.colab import files\n",
        "from io import BytesIO\n",
        "from PIL import Image\n",
        "\n",
        "model = keras.applications.VGG16()\n",
        "\n",
        "uploaded = files.upload()\n",
        "img = Image.open(BytesIO(uploaded['3.jpg']))\n",
        "plt.imshow(img)\n",
        "\n",
        "img = np.array(img)\n",
        "x = keras.applications.vgg16.preprocess_input(img)\n",
        "print(x.shape)\n",
        "x = np.expand_dims(x, axis = 0)\n",
        "\n",
        "res = model.predict(x)\n",
        "print(np.argmax(res))"
      ],
      "execution_count": null,
      "outputs": []
    }
  ]
}